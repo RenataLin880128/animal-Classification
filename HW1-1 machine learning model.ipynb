{
 "cells": [
  {
   "cell_type": "code",
   "execution_count": 9,
   "metadata": {},
   "outputs": [],
   "source": [
    "import cv2\n",
    "import numpy as np\n",
    "import pandas as pd\n",
    "import matplotlib.pyplot as plt\n",
    "from imageio import imread\n",
    "import glob\n",
    "from IPython.display import clear_output\n",
    "import os  \n",
    "import sys \n",
    "import pyodm \n",
    "import matplotlib.pyplot as plt\n",
    "from PIL import Image\n",
    "import numpy as np\n",
    "from sklearn.metrics import accuracy_score\n",
    "import markdown"
   ]
  },
  {
   "cell_type": "markdown",
   "metadata": {},
   "source": [
    "# 將圖片的顏色資訊轉為特徵向量\n",
    "\n",
    "1.“calculate_global_color_histogram”函數接受一個輸入圖像，將其轉換為HSV色彩空間，使用8個通道對應8個直方圖條帶進行計算其色彩直方圖，然後對直方圖進行標準化處理並壓平成一維數組。\n",
    "\n",
    "2.分別從“train.txt”、“val.txt”、“test.txt”的文件中讀取一組圖像文件名稱和對應的標籤，用“Image”模組打開每個圖像，將其轉換為NumPy數組，將顏色空間轉換為BGR，使用“calculate_global_color_histogram”函數計算全局顏色直方圖，然後將得到的直方圖添加到“features0”、“features1”、“features2”數組中。相應的標籤也被添加到“labels_0”、“labels_1”、“labels_2”數組中。"
   ]
  },
  {
   "cell_type": "code",
   "execution_count": 2,
   "metadata": {},
   "outputs": [
    {
     "name": "stdout",
     "output_type": "stream",
     "text": [
      "[[0.08661325 0.03387291 0.01317771 ... 0.         0.         0.        ]\n",
      " [0.02643868 0.12184548 0.10981804 ... 0.         0.         0.        ]\n",
      " [0.01820493 0.02306348 0.00778539 ... 0.         0.         0.        ]\n",
      " ...\n",
      " [0.         0.         0.00059613 ... 0.         0.         0.        ]\n",
      " [0.02573715 0.00413633 0.00166602 ... 0.         0.         0.        ]\n",
      " [0.00248319 0.01532307 0.04009436 ... 0.         0.         0.        ]]\n",
      "(63325, 512)\n",
      "(63325,)\n"
     ]
    }
   ],
   "source": [
    "def calculate_global_color_histogram(image):\n",
    "    # 將圖像轉換為HSV色彩空間\n",
    "    hsv_image = cv2.cvtColor(image, cv2.COLOR_RGB2HSV)\n",
    "    # 計算直方圖\n",
    "    hist = cv2.calcHist([hsv_image], [0, 1, 2], None, [8, 8, 8], [0, 256, 0, 256, 0, 256])\n",
    "    # 標準化直方圖\n",
    "    hist = cv2.normalize(hist, hist).flatten()\n",
    "    return hist\n",
    "\n",
    "labels = []\n",
    "features0=[]\n",
    "#for i in range(len(features1)):\n",
    "with open('train.txt', 'r') as file:\n",
    "    for line in file:\n",
    "        image_file_name, label = line.strip().split(' ')\n",
    "        image = Image.open(image_file_name)\n",
    "        image_data_0 = np.array(image)\n",
    "        labels_0=labels.append(label)\n",
    "        image_data_0=cv2.cvtColor(image_data_0, cv2.COLOR_RGB2BGR)\n",
    "        hist = calculate_global_color_histogram(image_data_0)\n",
    "        features0.append(hist)\n",
    "features0 = np.array(features0)\n",
    "labels_0 = np.array(labels)\n",
    "print(features0)\n",
    "print(features0.shape)\n",
    "print(labels_0.shape)"
   ]
  },
  {
   "cell_type": "code",
   "execution_count": 3,
   "metadata": {},
   "outputs": [
    {
     "name": "stdout",
     "output_type": "stream",
     "text": [
      "[[0.         0.         0.         ... 0.         0.         0.        ]\n",
      " [0.23347905 0.00023636 0.         ... 0.         0.         0.        ]\n",
      " [0.23229899 0.09332479 0.0519429  ... 0.         0.         0.        ]\n",
      " ...\n",
      " [0.05101004 0.00850167 0.00297922 ... 0.         0.         0.        ]\n",
      " [0.00382916 0.00296625 0.00334377 ... 0.         0.         0.        ]\n",
      " [0.01941418 0.1143352  0.16475995 ... 0.         0.         0.        ]]\n",
      "(450, 512)\n",
      "(450,)\n"
     ]
    }
   ],
   "source": [
    "labels = []\n",
    "features1=[]\n",
    "#for i in range(len(features1)):\n",
    "with open('test.txt', 'r') as file:\n",
    "    for line in file:\n",
    "        image_file_name, label = line.strip().split(' ')\n",
    "        image = Image.open(image_file_name)\n",
    "        image_data_1 = np.array(image)\n",
    "        labels_1=labels.append(label)\n",
    "        \n",
    "        image_data_1=cv2.cvtColor(image_data_1, cv2.COLOR_RGB2BGR)\n",
    "        hist = calculate_global_color_histogram(image_data_1)\n",
    "        features1.append(hist)\n",
    "features1 = np.array(features1)\n",
    "labels_1=np.array(labels)\n",
    "print(features1)\n",
    "print(features1.shape)\n",
    "print(labels_1.shape)"
   ]
  },
  {
   "cell_type": "code",
   "execution_count": 4,
   "metadata": {},
   "outputs": [
    {
     "name": "stdout",
     "output_type": "stream",
     "text": [
      "[[1.1031483e-01 1.4827338e-01 1.9299753e-02 ... 0.0000000e+00\n",
      "  0.0000000e+00 0.0000000e+00]\n",
      " [3.4235074e-04 1.1126400e-02 3.4805660e-03 ... 0.0000000e+00\n",
      "  0.0000000e+00 0.0000000e+00]\n",
      " [2.4327262e-04 1.5751902e-02 2.1529626e-02 ... 0.0000000e+00\n",
      "  0.0000000e+00 0.0000000e+00]\n",
      " ...\n",
      " [5.2330565e-02 6.1886171e-03 3.7937881e-03 ... 0.0000000e+00\n",
      "  0.0000000e+00 0.0000000e+00]\n",
      " [0.0000000e+00 3.8903716e-04 0.0000000e+00 ... 0.0000000e+00\n",
      "  0.0000000e+00 0.0000000e+00]\n",
      " [7.6251788e-05 3.8125894e-05 1.1437768e-04 ... 0.0000000e+00\n",
      "  0.0000000e+00 0.0000000e+00]]\n",
      "(450, 512)\n",
      "(450,)\n"
     ]
    }
   ],
   "source": [
    "labels = []\n",
    "features2=[]\n",
    "#for i in range(len(features1)):\n",
    "with open('val.txt', 'r') as file:\n",
    "    for line in file:\n",
    "        image_file_name, label = line.strip().split(' ')\n",
    "        image = Image.open(image_file_name)\n",
    "        image_data_2 = np.array(image)\n",
    "        labels_2=labels.append(label)\n",
    "        image_data_2=cv2.cvtColor(image_data_2, cv2.COLOR_RGB2BGR)\n",
    "        hist = calculate_global_color_histogram(image_data_2)\n",
    "        features2.append(hist)\n",
    "features2 = np.array(features2)\n",
    "labels_2 = np.array(labels)\n",
    "print(features2)\n",
    "print(features2.shape)\n",
    "print(labels_2.shape)"
   ]
  },
  {
   "cell_type": "markdown",
   "metadata": {},
   "source": [
    "# 建模-進行影像分類預測\n",
    "\n",
    "使用SVM、Random Forest、LightGBM、AdaBoost、CatBoost、XGBoost建模，並以accuracy衡量模型表現"
   ]
  },
  {
   "cell_type": "code",
   "execution_count": 5,
   "metadata": {},
   "outputs": [
    {
     "data": {
      "text/plain": [
       "SVC(C=1, gamma='auto', kernel='linear')"
      ]
     },
     "execution_count": 5,
     "metadata": {},
     "output_type": "execute_result"
    }
   ],
   "source": [
    "from sklearn import svm\n",
    "model = svm.SVC(kernel='linear', C=1, gamma='auto')\n",
    "model.fit(features0, labels_0)"
   ]
  },
  {
   "cell_type": "code",
   "execution_count": 6,
   "metadata": {},
   "outputs": [
    {
     "name": "stdout",
     "output_type": "stream",
     "text": [
      "Accuracy: 0.10222222222222223\n",
      "Validation Accuracy: 0.13111111111111112\n"
     ]
    }
   ],
   "source": [
    "y_pred = model.predict(features1)\n",
    "accuracy_1 = accuracy_score(labels_1, y_pred)\n",
    "print('Accuracy:', accuracy_1)\n",
    "val_preds = model.predict(features2)\n",
    "val_acc_1 = accuracy_score(labels_2, val_preds)\n",
    "print(\"Validation Accuracy:\", val_acc_1)"
   ]
  },
  {
   "cell_type": "code",
   "execution_count": 7,
   "metadata": {},
   "outputs": [
    {
     "name": "stdout",
     "output_type": "stream",
     "text": [
      "Accuracy: 0.14444444444444443\n",
      "Validation Accuracy: 0.13777777777777778\n"
     ]
    }
   ],
   "source": [
    "from sklearn.ensemble import RandomForestClassifier\n",
    "rf = RandomForestClassifier(n_estimators=500, max_depth=8, random_state=42)\n",
    "rf.fit(features0, labels_0)\n",
    "accuracy_2 = rf.score(features1,labels_1)\n",
    "print(\"Accuracy:\", accuracy_2)\n",
    "val_preds = rf.predict(features2)\n",
    "val_acc_2 = accuracy_score(labels_2, val_preds)\n",
    "print(\"Validation Accuracy:\", val_acc_2)"
   ]
  },
  {
   "cell_type": "code",
   "execution_count": 8,
   "metadata": {},
   "outputs": [
    {
     "name": "stdout",
     "output_type": "stream",
     "text": [
      "Accuracy: 0.18666666666666668\n",
      "Validation Accuracy: 0.20444444444444446\n"
     ]
    }
   ],
   "source": [
    "import lightgbm as lgb\n",
    "model = lgb.LGBMClassifier(is_unbalance=True)\n",
    "model.fit(features0,labels_0)\n",
    "pred=model.predict(features1)\n",
    "accuracy_3=accuracy_score(labels_1, pred)\n",
    "print(\"Accuracy:\", accuracy_3)\n",
    "val_preds = model.predict(features2)\n",
    "val_acc_3 = accuracy_score(labels_2, val_preds)\n",
    "print(\"Validation Accuracy:\", val_acc_3)"
   ]
  },
  {
   "cell_type": "code",
   "execution_count": 9,
   "metadata": {},
   "outputs": [
    {
     "name": "stdout",
     "output_type": "stream",
     "text": [
      "0.08444444444444445\n",
      "Validation Accuracy: 0.10888888888888888\n"
     ]
    }
   ],
   "source": [
    "from sklearn import ensemble, preprocessing, metrics\n",
    "boost = ensemble.AdaBoostClassifier(n_estimators = 100)\n",
    "boost_fit = boost.fit(features0, labels_0)\n",
    "\n",
    "# 預測\n",
    "test_y_predicted = boost.predict(features1)\n",
    "\n",
    "# 績效\n",
    "accuracy_4 = metrics.accuracy_score(labels_1, test_y_predicted)\n",
    "print(accuracy_4)\n",
    "val_preds = boost.predict(features2)\n",
    "val_acc_4 = accuracy_score(labels_2, val_preds)\n",
    "print(\"Validation Accuracy:\", val_acc_4)"
   ]
  },
  {
   "cell_type": "code",
   "execution_count": 10,
   "metadata": {},
   "outputs": [
    {
     "name": "stdout",
     "output_type": "stream",
     "text": [
      "Learning rate set to 0.5\n",
      "0:\tlearn: 3.7628454\ttotal: 9.14s\tremaining: 15m 4s\n",
      "1:\tlearn: 3.6957501\ttotal: 18s\tremaining: 14m 42s\n",
      "2:\tlearn: 3.6268815\ttotal: 27.1s\tremaining: 14m 35s\n",
      "3:\tlearn: 3.5748805\ttotal: 36.3s\tremaining: 14m 30s\n",
      "4:\tlearn: 3.5245864\ttotal: 44.7s\tremaining: 14m 8s\n",
      "5:\tlearn: 3.4928999\ttotal: 53.3s\tremaining: 13m 55s\n",
      "6:\tlearn: 3.4633670\ttotal: 1m 2s\tremaining: 13m 47s\n",
      "7:\tlearn: 3.4317445\ttotal: 1m 11s\tremaining: 13m 37s\n",
      "8:\tlearn: 3.4047738\ttotal: 1m 19s\tremaining: 13m 26s\n",
      "9:\tlearn: 3.3849323\ttotal: 1m 28s\tremaining: 13m 15s\n",
      "10:\tlearn: 3.3613707\ttotal: 1m 37s\tremaining: 13m 6s\n",
      "11:\tlearn: 3.3439557\ttotal: 1m 46s\tremaining: 12m 57s\n",
      "12:\tlearn: 3.3250520\ttotal: 1m 54s\tremaining: 12m 46s\n",
      "13:\tlearn: 3.3025861\ttotal: 2m 3s\tremaining: 12m 36s\n",
      "14:\tlearn: 3.2843043\ttotal: 2m 11s\tremaining: 12m 27s\n",
      "15:\tlearn: 3.2731835\ttotal: 2m 20s\tremaining: 12m 16s\n",
      "16:\tlearn: 3.2592078\ttotal: 2m 29s\tremaining: 12m 7s\n",
      "17:\tlearn: 3.2479119\ttotal: 2m 37s\tremaining: 11m 58s\n",
      "18:\tlearn: 3.2313536\ttotal: 2m 41s\tremaining: 11m 28s\n",
      "19:\tlearn: 3.2169591\ttotal: 2m 45s\tremaining: 11m\n",
      "20:\tlearn: 3.2016174\ttotal: 2m 48s\tremaining: 10m 33s\n",
      "21:\tlearn: 3.1863382\ttotal: 2m 51s\tremaining: 10m 9s\n",
      "22:\tlearn: 3.1691803\ttotal: 2m 55s\tremaining: 9m 47s\n",
      "23:\tlearn: 3.1611675\ttotal: 2m 59s\tremaining: 9m 26s\n",
      "24:\tlearn: 3.1468935\ttotal: 3m 2s\tremaining: 9m 7s\n",
      "25:\tlearn: 3.1377579\ttotal: 3m 5s\tremaining: 8m 49s\n",
      "26:\tlearn: 3.1242337\ttotal: 3m 9s\tremaining: 8m 32s\n",
      "27:\tlearn: 3.1140063\ttotal: 3m 12s\tremaining: 8m 16s\n",
      "28:\tlearn: 3.0935841\ttotal: 3m 16s\tremaining: 8m 1s\n",
      "29:\tlearn: 3.0804302\ttotal: 3m 20s\tremaining: 7m 46s\n",
      "30:\tlearn: 3.0690957\ttotal: 3m 23s\tremaining: 7m 32s\n",
      "31:\tlearn: 3.0596157\ttotal: 3m 26s\tremaining: 7m 19s\n",
      "32:\tlearn: 3.0485984\ttotal: 3m 30s\tremaining: 7m 7s\n",
      "33:\tlearn: 3.0386929\ttotal: 3m 34s\tremaining: 6m 55s\n",
      "34:\tlearn: 3.0286407\ttotal: 3m 37s\tremaining: 6m 43s\n",
      "35:\tlearn: 3.0205011\ttotal: 3m 40s\tremaining: 6m 32s\n",
      "36:\tlearn: 3.0092833\ttotal: 3m 44s\tremaining: 6m 22s\n",
      "37:\tlearn: 2.9991968\ttotal: 3m 48s\tremaining: 6m 12s\n",
      "38:\tlearn: 2.9934920\ttotal: 3m 51s\tremaining: 6m 2s\n",
      "39:\tlearn: 2.9889668\ttotal: 3m 54s\tremaining: 5m 52s\n",
      "40:\tlearn: 2.9831417\ttotal: 3m 58s\tremaining: 5m 42s\n",
      "41:\tlearn: 2.9754368\ttotal: 4m 1s\tremaining: 5m 33s\n",
      "42:\tlearn: 2.9670606\ttotal: 4m 5s\tremaining: 5m 25s\n",
      "43:\tlearn: 2.9585977\ttotal: 4m 8s\tremaining: 5m 16s\n",
      "44:\tlearn: 2.9528655\ttotal: 4m 12s\tremaining: 5m 8s\n",
      "45:\tlearn: 2.9447151\ttotal: 4m 15s\tremaining: 5m\n",
      "46:\tlearn: 2.9385275\ttotal: 4m 19s\tremaining: 4m 52s\n",
      "47:\tlearn: 2.9298660\ttotal: 4m 22s\tremaining: 4m 44s\n",
      "48:\tlearn: 2.9253716\ttotal: 4m 26s\tremaining: 4m 36s\n",
      "49:\tlearn: 2.9219544\ttotal: 4m 29s\tremaining: 4m 29s\n",
      "50:\tlearn: 2.9172669\ttotal: 4m 32s\tremaining: 4m 22s\n",
      "51:\tlearn: 2.9126939\ttotal: 4m 36s\tremaining: 4m 15s\n",
      "52:\tlearn: 2.9085286\ttotal: 4m 40s\tremaining: 4m 8s\n",
      "53:\tlearn: 2.9032040\ttotal: 4m 43s\tremaining: 4m 1s\n",
      "54:\tlearn: 2.8989290\ttotal: 4m 47s\tremaining: 3m 55s\n",
      "55:\tlearn: 2.8953856\ttotal: 4m 51s\tremaining: 3m 48s\n",
      "56:\tlearn: 2.8898541\ttotal: 4m 54s\tremaining: 3m 42s\n",
      "57:\tlearn: 2.8808717\ttotal: 4m 58s\tremaining: 3m 35s\n",
      "58:\tlearn: 2.8757524\ttotal: 5m 1s\tremaining: 3m 29s\n",
      "59:\tlearn: 2.8700854\ttotal: 5m 4s\tremaining: 3m 23s\n",
      "60:\tlearn: 2.8664526\ttotal: 5m 8s\tremaining: 3m 17s\n",
      "61:\tlearn: 2.8624252\ttotal: 5m 11s\tremaining: 3m 11s\n",
      "62:\tlearn: 2.8576017\ttotal: 5m 15s\tremaining: 3m 5s\n",
      "63:\tlearn: 2.8525901\ttotal: 5m 18s\tremaining: 2m 59s\n",
      "64:\tlearn: 2.8484247\ttotal: 5m 22s\tremaining: 2m 53s\n",
      "65:\tlearn: 2.8450753\ttotal: 5m 25s\tremaining: 2m 47s\n",
      "66:\tlearn: 2.8428758\ttotal: 5m 28s\tremaining: 2m 41s\n",
      "67:\tlearn: 2.8392731\ttotal: 5m 32s\tremaining: 2m 36s\n",
      "68:\tlearn: 2.8338909\ttotal: 5m 35s\tremaining: 2m 30s\n",
      "69:\tlearn: 2.8306759\ttotal: 5m 39s\tremaining: 2m 25s\n",
      "70:\tlearn: 2.8251415\ttotal: 5m 42s\tremaining: 2m 19s\n",
      "71:\tlearn: 2.8211862\ttotal: 5m 46s\tremaining: 2m 14s\n",
      "72:\tlearn: 2.8196852\ttotal: 5m 49s\tremaining: 2m 9s\n",
      "73:\tlearn: 2.8155472\ttotal: 5m 53s\tremaining: 2m 4s\n",
      "74:\tlearn: 2.8118180\ttotal: 5m 56s\tremaining: 1m 58s\n",
      "75:\tlearn: 2.8076106\ttotal: 5m 59s\tremaining: 1m 53s\n",
      "76:\tlearn: 2.8009117\ttotal: 6m 3s\tremaining: 1m 48s\n",
      "77:\tlearn: 2.7978997\ttotal: 6m 6s\tremaining: 1m 43s\n",
      "78:\tlearn: 2.7931527\ttotal: 6m 10s\tremaining: 1m 38s\n",
      "79:\tlearn: 2.7858490\ttotal: 6m 13s\tremaining: 1m 33s\n",
      "80:\tlearn: 2.7821460\ttotal: 6m 17s\tremaining: 1m 28s\n",
      "81:\tlearn: 2.7780167\ttotal: 6m 21s\tremaining: 1m 23s\n",
      "82:\tlearn: 2.7734538\ttotal: 6m 24s\tremaining: 1m 18s\n",
      "83:\tlearn: 2.7697210\ttotal: 6m 29s\tremaining: 1m 14s\n",
      "84:\tlearn: 2.7681930\ttotal: 6m 33s\tremaining: 1m 9s\n",
      "85:\tlearn: 2.7662890\ttotal: 6m 37s\tremaining: 1m 4s\n",
      "86:\tlearn: 2.7629500\ttotal: 6m 41s\tremaining: 60s\n",
      "87:\tlearn: 2.7598741\ttotal: 6m 45s\tremaining: 55.3s\n",
      "88:\tlearn: 2.7578226\ttotal: 6m 49s\tremaining: 50.7s\n",
      "89:\tlearn: 2.7528333\ttotal: 6m 54s\tremaining: 46s\n",
      "90:\tlearn: 2.7475242\ttotal: 6m 58s\tremaining: 41.4s\n",
      "91:\tlearn: 2.7453310\ttotal: 7m 2s\tremaining: 36.8s\n",
      "92:\tlearn: 2.7431270\ttotal: 7m 6s\tremaining: 32.1s\n",
      "93:\tlearn: 2.7402042\ttotal: 7m 10s\tremaining: 27.5s\n",
      "94:\tlearn: 2.7358965\ttotal: 7m 15s\tremaining: 22.9s\n",
      "95:\tlearn: 2.7334145\ttotal: 7m 19s\tremaining: 18.3s\n",
      "96:\tlearn: 2.7312221\ttotal: 7m 23s\tremaining: 13.7s\n",
      "97:\tlearn: 2.7282405\ttotal: 7m 27s\tremaining: 9.13s\n",
      "98:\tlearn: 2.7247871\ttotal: 7m 31s\tremaining: 4.56s\n",
      "99:\tlearn: 2.7226767\ttotal: 7m 35s\tremaining: 0us\n",
      "0.20444444444444446\n",
      "Validation Accuracy: 0.2\n"
     ]
    }
   ],
   "source": [
    "from catboost import CatBoostClassifier\n",
    "model = CatBoostClassifier(iterations=100, depth=5)\n",
    "model.fit(features0, labels_0)\n",
    "y_pred = model.predict(features1)\n",
    "accuracy_5=accuracy_score(labels_1, y_pred)\n",
    "print(accuracy_5)\n",
    "val_preds = model.predict(features2)\n",
    "val_acc_5 = accuracy_score(labels_2, val_preds)\n",
    "print(\"Validation Accuracy:\", val_acc_5)"
   ]
  },
  {
   "cell_type": "code",
   "execution_count": 11,
   "metadata": {},
   "outputs": [
    {
     "name": "stderr",
     "output_type": "stream",
     "text": [
      "C:\\Users\\User\\anaconda3\\lib\\site-packages\\xgboost\\sklearn.py:888: UserWarning: The use of label encoder in XGBClassifier is deprecated and will be removed in a future release. To remove this warning, do the following: 1) Pass option use_label_encoder=False when constructing XGBClassifier object; and 2) Encode your labels (y) as integers starting with 0, i.e. 0, 1, 2, ..., [num_class - 1].\n",
      "  warnings.warn(label_encoder_deprecation_msg, UserWarning)\n"
     ]
    },
    {
     "name": "stdout",
     "output_type": "stream",
     "text": [
      "[20:21:52] WARNING: C:/Users/Administrator/workspace/xgboost-win64_release_1.3.0/src/learner.cc:1061: Starting in XGBoost 1.3.0, the default evaluation metric used with the objective 'multi:softprob' was changed from 'merror' to 'mlogloss'. Explicitly set eval_metric if you'd like to restore the old behavior.\n",
      "0.19777777777777777\n",
      "Validation Accuracy: 0.21555555555555556\n"
     ]
    }
   ],
   "source": [
    "import xgboost\n",
    "from xgboost import XGBClassifier\n",
    "model = XGBClassifier()\n",
    "model.fit(features0, labels_0)\n",
    "y_pred = model.predict(features1)\n",
    "accuracy_6=accuracy_score(labels_1, y_pred)\n",
    "print(accuracy_6)\n",
    "val_preds = model.predict(features2)\n",
    "val_acc_6 = accuracy_score(labels_2, val_preds)\n",
    "print(\"Validation Accuracy:\", val_acc_6)"
   ]
  },
  {
   "cell_type": "markdown",
   "metadata": {},
   "source": [
    "# 比較在驗證資料集與測試資料集中，各模型的accuracy，並繪成長條圖"
   ]
  },
  {
   "cell_type": "code",
   "execution_count": 16,
   "metadata": {},
   "outputs": [
    {
     "ename": "ValueError",
     "evalue": "operands could not be broadcast together with remapped shapes [original->remapped]: (450,) and requested shape (6,)",
     "output_type": "error",
     "traceback": [
      "\u001b[1;31m---------------------------------------------------------------------------\u001b[0m",
      "\u001b[1;31mValueError\u001b[0m                                Traceback (most recent call last)",
      "\u001b[1;32m<ipython-input-16-c22fddf6e5a8>\u001b[0m in \u001b[0;36m<module>\u001b[1;34m\u001b[0m\n\u001b[0;32m      2\u001b[0m \u001b[0mM\u001b[0m\u001b[1;33m=\u001b[0m\u001b[0mnp\u001b[0m\u001b[1;33m.\u001b[0m\u001b[0marray\u001b[0m\u001b[1;33m(\u001b[0m\u001b[1;33m[\u001b[0m\u001b[0mval_acc_1\u001b[0m\u001b[1;33m,\u001b[0m\u001b[0mval_acc_2\u001b[0m\u001b[1;33m,\u001b[0m\u001b[0mval_acc_3\u001b[0m\u001b[1;33m,\u001b[0m\u001b[0mval_acc_4\u001b[0m\u001b[1;33m,\u001b[0m\u001b[0mval_acc_5\u001b[0m\u001b[1;33m,\u001b[0m\u001b[0mval_acc_6\u001b[0m\u001b[1;33m]\u001b[0m\u001b[1;33m)\u001b[0m\u001b[1;33m\u001b[0m\u001b[1;33m\u001b[0m\u001b[0m\n\u001b[0;32m      3\u001b[0m \u001b[0mJ\u001b[0m\u001b[1;33m=\u001b[0m\u001b[0mnp\u001b[0m\u001b[1;33m.\u001b[0m\u001b[0marray\u001b[0m\u001b[1;33m(\u001b[0m\u001b[1;33m[\u001b[0m\u001b[0maccuracy_1\u001b[0m\u001b[1;33m,\u001b[0m\u001b[0maccuracy_2\u001b[0m\u001b[1;33m,\u001b[0m\u001b[0maccuracy_3\u001b[0m\u001b[1;33m,\u001b[0m\u001b[0maccuracy_4\u001b[0m\u001b[1;33m,\u001b[0m\u001b[0maccuracy_5\u001b[0m\u001b[1;33m,\u001b[0m\u001b[0maccuracy_6\u001b[0m\u001b[1;33m]\u001b[0m\u001b[1;33m)\u001b[0m\u001b[1;33m\u001b[0m\u001b[1;33m\u001b[0m\u001b[0m\n\u001b[1;32m----> 4\u001b[1;33m \u001b[0mplt\u001b[0m\u001b[1;33m.\u001b[0m\u001b[0mbar\u001b[0m\u001b[1;33m(\u001b[0m\u001b[0mN\u001b[0m\u001b[1;33m,\u001b[0m \u001b[0mJ\u001b[0m\u001b[1;33m,\u001b[0m \u001b[0mcolor\u001b[0m\u001b[1;33m=\u001b[0m\u001b[1;34m'red'\u001b[0m\u001b[1;33m,\u001b[0m \u001b[0mlinewidth\u001b[0m\u001b[1;33m=\u001b[0m\u001b[1;36m2\u001b[0m\u001b[1;33m,\u001b[0m\u001b[0malign\u001b[0m\u001b[1;33m=\u001b[0m\u001b[1;34m'edge'\u001b[0m\u001b[1;33m,\u001b[0m\u001b[0mtick_label\u001b[0m\u001b[1;33m=\u001b[0m\u001b[0mlabels\u001b[0m\u001b[1;33m)\u001b[0m\u001b[1;33m\u001b[0m\u001b[1;33m\u001b[0m\u001b[0m\n\u001b[0m\u001b[0;32m      5\u001b[0m \u001b[0mlabels\u001b[0m \u001b[1;33m=\u001b[0m \u001b[1;33m[\u001b[0m\u001b[1;34m'SVM'\u001b[0m\u001b[1;33m,\u001b[0m \u001b[1;34m'RF'\u001b[0m\u001b[1;33m,\u001b[0m \u001b[1;34m'LGB'\u001b[0m\u001b[1;33m,\u001b[0m \u001b[1;34m'AdaBoost'\u001b[0m\u001b[1;33m,\u001b[0m \u001b[1;34m'CatBoost'\u001b[0m\u001b[1;33m,\u001b[0m\u001b[1;34m'XGBoost'\u001b[0m\u001b[1;33m]\u001b[0m\u001b[1;33m\u001b[0m\u001b[1;33m\u001b[0m\u001b[0m\n\u001b[0;32m      6\u001b[0m \u001b[1;31m#plt.plot(N, J, color='blue', linestyle=\"-\", linewidth=\"2\", markersize=\"16\", marker=\".\", label=\"Plot 2\")\u001b[0m\u001b[1;33m\u001b[0m\u001b[1;33m\u001b[0m\u001b[1;33m\u001b[0m\u001b[0m\n",
      "\u001b[1;32m~\\anaconda3\\lib\\site-packages\\matplotlib\\pyplot.py\u001b[0m in \u001b[0;36mbar\u001b[1;34m(x, height, width, bottom, align, data, **kwargs)\u001b[0m\n\u001b[0;32m   2485\u001b[0m         \u001b[0mx\u001b[0m\u001b[1;33m,\u001b[0m \u001b[0mheight\u001b[0m\u001b[1;33m,\u001b[0m \u001b[0mwidth\u001b[0m\u001b[1;33m=\u001b[0m\u001b[1;36m0.8\u001b[0m\u001b[1;33m,\u001b[0m \u001b[0mbottom\u001b[0m\u001b[1;33m=\u001b[0m\u001b[1;32mNone\u001b[0m\u001b[1;33m,\u001b[0m \u001b[1;33m*\u001b[0m\u001b[1;33m,\u001b[0m \u001b[0malign\u001b[0m\u001b[1;33m=\u001b[0m\u001b[1;34m'center'\u001b[0m\u001b[1;33m,\u001b[0m\u001b[1;33m\u001b[0m\u001b[1;33m\u001b[0m\u001b[0m\n\u001b[0;32m   2486\u001b[0m         data=None, **kwargs):\n\u001b[1;32m-> 2487\u001b[1;33m     return gca().bar(\n\u001b[0m\u001b[0;32m   2488\u001b[0m         \u001b[0mx\u001b[0m\u001b[1;33m,\u001b[0m \u001b[0mheight\u001b[0m\u001b[1;33m,\u001b[0m \u001b[0mwidth\u001b[0m\u001b[1;33m=\u001b[0m\u001b[0mwidth\u001b[0m\u001b[1;33m,\u001b[0m \u001b[0mbottom\u001b[0m\u001b[1;33m=\u001b[0m\u001b[0mbottom\u001b[0m\u001b[1;33m,\u001b[0m \u001b[0malign\u001b[0m\u001b[1;33m=\u001b[0m\u001b[0malign\u001b[0m\u001b[1;33m,\u001b[0m\u001b[1;33m\u001b[0m\u001b[1;33m\u001b[0m\u001b[0m\n\u001b[0;32m   2489\u001b[0m         **({\"data\": data} if data is not None else {}), **kwargs)\n",
      "\u001b[1;32m~\\anaconda3\\lib\\site-packages\\matplotlib\\__init__.py\u001b[0m in \u001b[0;36minner\u001b[1;34m(ax, data, *args, **kwargs)\u001b[0m\n\u001b[0;32m   1436\u001b[0m     \u001b[1;32mdef\u001b[0m \u001b[0minner\u001b[0m\u001b[1;33m(\u001b[0m\u001b[0max\u001b[0m\u001b[1;33m,\u001b[0m \u001b[1;33m*\u001b[0m\u001b[0margs\u001b[0m\u001b[1;33m,\u001b[0m \u001b[0mdata\u001b[0m\u001b[1;33m=\u001b[0m\u001b[1;32mNone\u001b[0m\u001b[1;33m,\u001b[0m \u001b[1;33m**\u001b[0m\u001b[0mkwargs\u001b[0m\u001b[1;33m)\u001b[0m\u001b[1;33m:\u001b[0m\u001b[1;33m\u001b[0m\u001b[1;33m\u001b[0m\u001b[0m\n\u001b[0;32m   1437\u001b[0m         \u001b[1;32mif\u001b[0m \u001b[0mdata\u001b[0m \u001b[1;32mis\u001b[0m \u001b[1;32mNone\u001b[0m\u001b[1;33m:\u001b[0m\u001b[1;33m\u001b[0m\u001b[1;33m\u001b[0m\u001b[0m\n\u001b[1;32m-> 1438\u001b[1;33m             \u001b[1;32mreturn\u001b[0m \u001b[0mfunc\u001b[0m\u001b[1;33m(\u001b[0m\u001b[0max\u001b[0m\u001b[1;33m,\u001b[0m \u001b[1;33m*\u001b[0m\u001b[0mmap\u001b[0m\u001b[1;33m(\u001b[0m\u001b[0msanitize_sequence\u001b[0m\u001b[1;33m,\u001b[0m \u001b[0margs\u001b[0m\u001b[1;33m)\u001b[0m\u001b[1;33m,\u001b[0m \u001b[1;33m**\u001b[0m\u001b[0mkwargs\u001b[0m\u001b[1;33m)\u001b[0m\u001b[1;33m\u001b[0m\u001b[1;33m\u001b[0m\u001b[0m\n\u001b[0m\u001b[0;32m   1439\u001b[0m \u001b[1;33m\u001b[0m\u001b[0m\n\u001b[0;32m   1440\u001b[0m         \u001b[0mbound\u001b[0m \u001b[1;33m=\u001b[0m \u001b[0mnew_sig\u001b[0m\u001b[1;33m.\u001b[0m\u001b[0mbind\u001b[0m\u001b[1;33m(\u001b[0m\u001b[0max\u001b[0m\u001b[1;33m,\u001b[0m \u001b[1;33m*\u001b[0m\u001b[0margs\u001b[0m\u001b[1;33m,\u001b[0m \u001b[1;33m**\u001b[0m\u001b[0mkwargs\u001b[0m\u001b[1;33m)\u001b[0m\u001b[1;33m\u001b[0m\u001b[1;33m\u001b[0m\u001b[0m\n",
      "\u001b[1;32m~\\anaconda3\\lib\\site-packages\\matplotlib\\axes\\_axes.py\u001b[0m in \u001b[0;36mbar\u001b[1;34m(self, x, height, width, bottom, align, **kwargs)\u001b[0m\n\u001b[0;32m   2520\u001b[0m \u001b[1;33m\u001b[0m\u001b[0m\n\u001b[0;32m   2521\u001b[0m         \u001b[1;32mif\u001b[0m \u001b[0mtick_labels\u001b[0m \u001b[1;32mis\u001b[0m \u001b[1;32mnot\u001b[0m \u001b[1;32mNone\u001b[0m\u001b[1;33m:\u001b[0m\u001b[1;33m\u001b[0m\u001b[1;33m\u001b[0m\u001b[0m\n\u001b[1;32m-> 2522\u001b[1;33m             \u001b[0mtick_labels\u001b[0m \u001b[1;33m=\u001b[0m \u001b[0mnp\u001b[0m\u001b[1;33m.\u001b[0m\u001b[0mbroadcast_to\u001b[0m\u001b[1;33m(\u001b[0m\u001b[0mtick_labels\u001b[0m\u001b[1;33m,\u001b[0m \u001b[0mlen\u001b[0m\u001b[1;33m(\u001b[0m\u001b[0mpatches\u001b[0m\u001b[1;33m)\u001b[0m\u001b[1;33m)\u001b[0m\u001b[1;33m\u001b[0m\u001b[1;33m\u001b[0m\u001b[0m\n\u001b[0m\u001b[0;32m   2523\u001b[0m             \u001b[0mtick_label_axis\u001b[0m\u001b[1;33m.\u001b[0m\u001b[0mset_ticks\u001b[0m\u001b[1;33m(\u001b[0m\u001b[0mtick_label_position\u001b[0m\u001b[1;33m)\u001b[0m\u001b[1;33m\u001b[0m\u001b[1;33m\u001b[0m\u001b[0m\n\u001b[0;32m   2524\u001b[0m             \u001b[0mtick_label_axis\u001b[0m\u001b[1;33m.\u001b[0m\u001b[0mset_ticklabels\u001b[0m\u001b[1;33m(\u001b[0m\u001b[0mtick_labels\u001b[0m\u001b[1;33m)\u001b[0m\u001b[1;33m\u001b[0m\u001b[1;33m\u001b[0m\u001b[0m\n",
      "\u001b[1;32m<__array_function__ internals>\u001b[0m in \u001b[0;36mbroadcast_to\u001b[1;34m(*args, **kwargs)\u001b[0m\n",
      "\u001b[1;32m~\\anaconda3\\lib\\site-packages\\numpy\\lib\\stride_tricks.py\u001b[0m in \u001b[0;36mbroadcast_to\u001b[1;34m(array, shape, subok)\u001b[0m\n\u001b[0;32m    178\u001b[0m            [1, 2, 3]])\n\u001b[0;32m    179\u001b[0m     \"\"\"\n\u001b[1;32m--> 180\u001b[1;33m     \u001b[1;32mreturn\u001b[0m \u001b[0m_broadcast_to\u001b[0m\u001b[1;33m(\u001b[0m\u001b[0marray\u001b[0m\u001b[1;33m,\u001b[0m \u001b[0mshape\u001b[0m\u001b[1;33m,\u001b[0m \u001b[0msubok\u001b[0m\u001b[1;33m=\u001b[0m\u001b[0msubok\u001b[0m\u001b[1;33m,\u001b[0m \u001b[0mreadonly\u001b[0m\u001b[1;33m=\u001b[0m\u001b[1;32mTrue\u001b[0m\u001b[1;33m)\u001b[0m\u001b[1;33m\u001b[0m\u001b[1;33m\u001b[0m\u001b[0m\n\u001b[0m\u001b[0;32m    181\u001b[0m \u001b[1;33m\u001b[0m\u001b[0m\n\u001b[0;32m    182\u001b[0m \u001b[1;33m\u001b[0m\u001b[0m\n",
      "\u001b[1;32m~\\anaconda3\\lib\\site-packages\\numpy\\lib\\stride_tricks.py\u001b[0m in \u001b[0;36m_broadcast_to\u001b[1;34m(array, shape, subok, readonly)\u001b[0m\n\u001b[0;32m    121\u001b[0m                          'negative')\n\u001b[0;32m    122\u001b[0m     \u001b[0mextras\u001b[0m \u001b[1;33m=\u001b[0m \u001b[1;33m[\u001b[0m\u001b[1;33m]\u001b[0m\u001b[1;33m\u001b[0m\u001b[1;33m\u001b[0m\u001b[0m\n\u001b[1;32m--> 123\u001b[1;33m     it = np.nditer(\n\u001b[0m\u001b[0;32m    124\u001b[0m         \u001b[1;33m(\u001b[0m\u001b[0marray\u001b[0m\u001b[1;33m,\u001b[0m\u001b[1;33m)\u001b[0m\u001b[1;33m,\u001b[0m \u001b[0mflags\u001b[0m\u001b[1;33m=\u001b[0m\u001b[1;33m[\u001b[0m\u001b[1;34m'multi_index'\u001b[0m\u001b[1;33m,\u001b[0m \u001b[1;34m'refs_ok'\u001b[0m\u001b[1;33m,\u001b[0m \u001b[1;34m'zerosize_ok'\u001b[0m\u001b[1;33m]\u001b[0m \u001b[1;33m+\u001b[0m \u001b[0mextras\u001b[0m\u001b[1;33m,\u001b[0m\u001b[1;33m\u001b[0m\u001b[1;33m\u001b[0m\u001b[0m\n\u001b[0;32m    125\u001b[0m         op_flags=['readonly'], itershape=shape, order='C')\n",
      "\u001b[1;31mValueError\u001b[0m: operands could not be broadcast together with remapped shapes [original->remapped]: (450,) and requested shape (6,)"
     ]
    },
    {
     "data": {
      "image/png": "[encoded data removed]",
      "text/plain": [
       "<Figure size 432x288 with 1 Axes>"
      ]
     },
     "metadata": {
      "needs_background": "light"
     },
     "output_type": "display_data"
    }
   ],
   "source": [
    "N=np.array(['SVM', 'RF', 'LGB', 'AdaBoost', 'CatBoost','XGBoost'])\n",
    "M=np.array([val_acc_1,val_acc_2,val_acc_3,val_acc_4,val_acc_5,val_acc_6])\n",
    "J=np.array([accuracy_1,accuracy_2,accuracy_3,accuracy_4,accuracy_5,accuracy_6])\n",
    "plt.bar(N, J, color='red', linewidth=2,align='edge',tick_label=labels)\n",
    "labels = ['SVM', 'RF', 'LGB', 'AdaBoost', 'CatBoost','XGBoost']\n",
    "#plt.plot(N, J, color='blue', linestyle=\"-\", linewidth=\"2\", markersize=\"16\", marker=\".\", label=\"Plot 2\")\n",
    "plt.title('Test Accuracy')\n",
    "#plt.xlim(0, 0.5) # 設定 x 軸座標範圍\n",
    "#plt.ylim(0, 0.5) # 設定 y 軸座標範圍\n",
    "\n",
    "\n",
    "\n",
    "\n",
    "plt.show()"
   ]
  },
  {
   "cell_type": "code",
   "execution_count": 17,
   "metadata": {},
   "outputs": [
    {
     "ename": "ValueError",
     "evalue": "operands could not be broadcast together with remapped shapes [original->remapped]: (450,) and requested shape (6,)",
     "output_type": "error",
     "traceback": [
      "\u001b[1;31m---------------------------------------------------------------------------\u001b[0m",
      "\u001b[1;31mValueError\u001b[0m                                Traceback (most recent call last)",
      "\u001b[1;32m<ipython-input-17-b58c0a48abed>\u001b[0m in \u001b[0;36m<module>\u001b[1;34m\u001b[0m\n\u001b[0;32m      2\u001b[0m \u001b[0mM\u001b[0m\u001b[1;33m=\u001b[0m\u001b[0mnp\u001b[0m\u001b[1;33m.\u001b[0m\u001b[0marray\u001b[0m\u001b[1;33m(\u001b[0m\u001b[1;33m[\u001b[0m\u001b[0mval_acc_1\u001b[0m\u001b[1;33m,\u001b[0m\u001b[0mval_acc_2\u001b[0m\u001b[1;33m,\u001b[0m\u001b[0mval_acc_3\u001b[0m\u001b[1;33m,\u001b[0m\u001b[0mval_acc_4\u001b[0m\u001b[1;33m,\u001b[0m\u001b[0mval_acc_5\u001b[0m\u001b[1;33m,\u001b[0m\u001b[0mval_acc_6\u001b[0m\u001b[1;33m]\u001b[0m\u001b[1;33m)\u001b[0m\u001b[1;33m\u001b[0m\u001b[1;33m\u001b[0m\u001b[0m\n\u001b[0;32m      3\u001b[0m \u001b[0mJ\u001b[0m\u001b[1;33m=\u001b[0m\u001b[0mnp\u001b[0m\u001b[1;33m.\u001b[0m\u001b[0marray\u001b[0m\u001b[1;33m(\u001b[0m\u001b[1;33m[\u001b[0m\u001b[0maccuracy_1\u001b[0m\u001b[1;33m,\u001b[0m\u001b[0maccuracy_2\u001b[0m\u001b[1;33m,\u001b[0m\u001b[0maccuracy_3\u001b[0m\u001b[1;33m,\u001b[0m\u001b[0maccuracy_4\u001b[0m\u001b[1;33m,\u001b[0m\u001b[0maccuracy_5\u001b[0m\u001b[1;33m,\u001b[0m\u001b[0maccuracy_6\u001b[0m\u001b[1;33m]\u001b[0m\u001b[1;33m)\u001b[0m\u001b[1;33m\u001b[0m\u001b[1;33m\u001b[0m\u001b[0m\n\u001b[1;32m----> 4\u001b[1;33m \u001b[0mplt\u001b[0m\u001b[1;33m.\u001b[0m\u001b[0mbar\u001b[0m\u001b[1;33m(\u001b[0m\u001b[0mN\u001b[0m\u001b[1;33m,\u001b[0m \u001b[0mM\u001b[0m\u001b[1;33m,\u001b[0m \u001b[0mcolor\u001b[0m\u001b[1;33m=\u001b[0m\u001b[1;34m'green'\u001b[0m\u001b[1;33m,\u001b[0m \u001b[0mlinewidth\u001b[0m\u001b[1;33m=\u001b[0m\u001b[1;36m2\u001b[0m\u001b[1;33m,\u001b[0m\u001b[0malign\u001b[0m\u001b[1;33m=\u001b[0m\u001b[1;34m'edge'\u001b[0m\u001b[1;33m,\u001b[0m\u001b[0mtick_label\u001b[0m\u001b[1;33m=\u001b[0m\u001b[0mlabels\u001b[0m\u001b[1;33m)\u001b[0m\u001b[1;33m\u001b[0m\u001b[1;33m\u001b[0m\u001b[0m\n\u001b[0m\u001b[0;32m      5\u001b[0m \u001b[0mlabels\u001b[0m \u001b[1;33m=\u001b[0m \u001b[1;33m[\u001b[0m\u001b[1;34m'SVM'\u001b[0m\u001b[1;33m,\u001b[0m \u001b[1;34m'RF'\u001b[0m\u001b[1;33m,\u001b[0m \u001b[1;34m'LGB'\u001b[0m\u001b[1;33m,\u001b[0m \u001b[1;34m'AdaBoost'\u001b[0m\u001b[1;33m,\u001b[0m \u001b[1;34m'CatBoost'\u001b[0m\u001b[1;33m,\u001b[0m\u001b[1;34m'XGBoost'\u001b[0m\u001b[1;33m]\u001b[0m\u001b[1;33m\u001b[0m\u001b[1;33m\u001b[0m\u001b[0m\n\u001b[0;32m      6\u001b[0m \u001b[0mplt\u001b[0m\u001b[1;33m.\u001b[0m\u001b[0mtitle\u001b[0m\u001b[1;33m(\u001b[0m\u001b[1;34m'Validation Accuracy'\u001b[0m\u001b[1;33m)\u001b[0m\u001b[1;33m\u001b[0m\u001b[1;33m\u001b[0m\u001b[0m\n",
      "\u001b[1;32m~\\anaconda3\\lib\\site-packages\\matplotlib\\pyplot.py\u001b[0m in \u001b[0;36mbar\u001b[1;34m(x, height, width, bottom, align, data, **kwargs)\u001b[0m\n\u001b[0;32m   2485\u001b[0m         \u001b[0mx\u001b[0m\u001b[1;33m,\u001b[0m \u001b[0mheight\u001b[0m\u001b[1;33m,\u001b[0m \u001b[0mwidth\u001b[0m\u001b[1;33m=\u001b[0m\u001b[1;36m0.8\u001b[0m\u001b[1;33m,\u001b[0m \u001b[0mbottom\u001b[0m\u001b[1;33m=\u001b[0m\u001b[1;32mNone\u001b[0m\u001b[1;33m,\u001b[0m \u001b[1;33m*\u001b[0m\u001b[1;33m,\u001b[0m \u001b[0malign\u001b[0m\u001b[1;33m=\u001b[0m\u001b[1;34m'center'\u001b[0m\u001b[1;33m,\u001b[0m\u001b[1;33m\u001b[0m\u001b[1;33m\u001b[0m\u001b[0m\n\u001b[0;32m   2486\u001b[0m         data=None, **kwargs):\n\u001b[1;32m-> 2487\u001b[1;33m     return gca().bar(\n\u001b[0m\u001b[0;32m   2488\u001b[0m         \u001b[0mx\u001b[0m\u001b[1;33m,\u001b[0m \u001b[0mheight\u001b[0m\u001b[1;33m,\u001b[0m \u001b[0mwidth\u001b[0m\u001b[1;33m=\u001b[0m\u001b[0mwidth\u001b[0m\u001b[1;33m,\u001b[0m \u001b[0mbottom\u001b[0m\u001b[1;33m=\u001b[0m\u001b[0mbottom\u001b[0m\u001b[1;33m,\u001b[0m \u001b[0malign\u001b[0m\u001b[1;33m=\u001b[0m\u001b[0malign\u001b[0m\u001b[1;33m,\u001b[0m\u001b[1;33m\u001b[0m\u001b[1;33m\u001b[0m\u001b[0m\n\u001b[0;32m   2489\u001b[0m         **({\"data\": data} if data is not None else {}), **kwargs)\n",
      "\u001b[1;32m~\\anaconda3\\lib\\site-packages\\matplotlib\\__init__.py\u001b[0m in \u001b[0;36minner\u001b[1;34m(ax, data, *args, **kwargs)\u001b[0m\n\u001b[0;32m   1436\u001b[0m     \u001b[1;32mdef\u001b[0m \u001b[0minner\u001b[0m\u001b[1;33m(\u001b[0m\u001b[0max\u001b[0m\u001b[1;33m,\u001b[0m \u001b[1;33m*\u001b[0m\u001b[0margs\u001b[0m\u001b[1;33m,\u001b[0m \u001b[0mdata\u001b[0m\u001b[1;33m=\u001b[0m\u001b[1;32mNone\u001b[0m\u001b[1;33m,\u001b[0m \u001b[1;33m**\u001b[0m\u001b[0mkwargs\u001b[0m\u001b[1;33m)\u001b[0m\u001b[1;33m:\u001b[0m\u001b[1;33m\u001b[0m\u001b[1;33m\u001b[0m\u001b[0m\n\u001b[0;32m   1437\u001b[0m         \u001b[1;32mif\u001b[0m \u001b[0mdata\u001b[0m \u001b[1;32mis\u001b[0m \u001b[1;32mNone\u001b[0m\u001b[1;33m:\u001b[0m\u001b[1;33m\u001b[0m\u001b[1;33m\u001b[0m\u001b[0m\n\u001b[1;32m-> 1438\u001b[1;33m             \u001b[1;32mreturn\u001b[0m \u001b[0mfunc\u001b[0m\u001b[1;33m(\u001b[0m\u001b[0max\u001b[0m\u001b[1;33m,\u001b[0m \u001b[1;33m*\u001b[0m\u001b[0mmap\u001b[0m\u001b[1;33m(\u001b[0m\u001b[0msanitize_sequence\u001b[0m\u001b[1;33m,\u001b[0m \u001b[0margs\u001b[0m\u001b[1;33m)\u001b[0m\u001b[1;33m,\u001b[0m \u001b[1;33m**\u001b[0m\u001b[0mkwargs\u001b[0m\u001b[1;33m)\u001b[0m\u001b[1;33m\u001b[0m\u001b[1;33m\u001b[0m\u001b[0m\n\u001b[0m\u001b[0;32m   1439\u001b[0m \u001b[1;33m\u001b[0m\u001b[0m\n\u001b[0;32m   1440\u001b[0m         \u001b[0mbound\u001b[0m \u001b[1;33m=\u001b[0m \u001b[0mnew_sig\u001b[0m\u001b[1;33m.\u001b[0m\u001b[0mbind\u001b[0m\u001b[1;33m(\u001b[0m\u001b[0max\u001b[0m\u001b[1;33m,\u001b[0m \u001b[1;33m*\u001b[0m\u001b[0margs\u001b[0m\u001b[1;33m,\u001b[0m \u001b[1;33m**\u001b[0m\u001b[0mkwargs\u001b[0m\u001b[1;33m)\u001b[0m\u001b[1;33m\u001b[0m\u001b[1;33m\u001b[0m\u001b[0m\n",
      "\u001b[1;32m~\\anaconda3\\lib\\site-packages\\matplotlib\\axes\\_axes.py\u001b[0m in \u001b[0;36mbar\u001b[1;34m(self, x, height, width, bottom, align, **kwargs)\u001b[0m\n\u001b[0;32m   2520\u001b[0m \u001b[1;33m\u001b[0m\u001b[0m\n\u001b[0;32m   2521\u001b[0m         \u001b[1;32mif\u001b[0m \u001b[0mtick_labels\u001b[0m \u001b[1;32mis\u001b[0m \u001b[1;32mnot\u001b[0m \u001b[1;32mNone\u001b[0m\u001b[1;33m:\u001b[0m\u001b[1;33m\u001b[0m\u001b[1;33m\u001b[0m\u001b[0m\n\u001b[1;32m-> 2522\u001b[1;33m             \u001b[0mtick_labels\u001b[0m \u001b[1;33m=\u001b[0m \u001b[0mnp\u001b[0m\u001b[1;33m.\u001b[0m\u001b[0mbroadcast_to\u001b[0m\u001b[1;33m(\u001b[0m\u001b[0mtick_labels\u001b[0m\u001b[1;33m,\u001b[0m \u001b[0mlen\u001b[0m\u001b[1;33m(\u001b[0m\u001b[0mpatches\u001b[0m\u001b[1;33m)\u001b[0m\u001b[1;33m)\u001b[0m\u001b[1;33m\u001b[0m\u001b[1;33m\u001b[0m\u001b[0m\n\u001b[0m\u001b[0;32m   2523\u001b[0m             \u001b[0mtick_label_axis\u001b[0m\u001b[1;33m.\u001b[0m\u001b[0mset_ticks\u001b[0m\u001b[1;33m(\u001b[0m\u001b[0mtick_label_position\u001b[0m\u001b[1;33m)\u001b[0m\u001b[1;33m\u001b[0m\u001b[1;33m\u001b[0m\u001b[0m\n\u001b[0;32m   2524\u001b[0m             \u001b[0mtick_label_axis\u001b[0m\u001b[1;33m.\u001b[0m\u001b[0mset_ticklabels\u001b[0m\u001b[1;33m(\u001b[0m\u001b[0mtick_labels\u001b[0m\u001b[1;33m)\u001b[0m\u001b[1;33m\u001b[0m\u001b[1;33m\u001b[0m\u001b[0m\n",
      "\u001b[1;32m<__array_function__ internals>\u001b[0m in \u001b[0;36mbroadcast_to\u001b[1;34m(*args, **kwargs)\u001b[0m\n",
      "\u001b[1;32m~\\anaconda3\\lib\\site-packages\\numpy\\lib\\stride_tricks.py\u001b[0m in \u001b[0;36mbroadcast_to\u001b[1;34m(array, shape, subok)\u001b[0m\n\u001b[0;32m    178\u001b[0m            [1, 2, 3]])\n\u001b[0;32m    179\u001b[0m     \"\"\"\n\u001b[1;32m--> 180\u001b[1;33m     \u001b[1;32mreturn\u001b[0m \u001b[0m_broadcast_to\u001b[0m\u001b[1;33m(\u001b[0m\u001b[0marray\u001b[0m\u001b[1;33m,\u001b[0m \u001b[0mshape\u001b[0m\u001b[1;33m,\u001b[0m \u001b[0msubok\u001b[0m\u001b[1;33m=\u001b[0m\u001b[0msubok\u001b[0m\u001b[1;33m,\u001b[0m \u001b[0mreadonly\u001b[0m\u001b[1;33m=\u001b[0m\u001b[1;32mTrue\u001b[0m\u001b[1;33m)\u001b[0m\u001b[1;33m\u001b[0m\u001b[1;33m\u001b[0m\u001b[0m\n\u001b[0m\u001b[0;32m    181\u001b[0m \u001b[1;33m\u001b[0m\u001b[0m\n\u001b[0;32m    182\u001b[0m \u001b[1;33m\u001b[0m\u001b[0m\n",
      "\u001b[1;32m~\\anaconda3\\lib\\site-packages\\numpy\\lib\\stride_tricks.py\u001b[0m in \u001b[0;36m_broadcast_to\u001b[1;34m(array, shape, subok, readonly)\u001b[0m\n\u001b[0;32m    121\u001b[0m                          'negative')\n\u001b[0;32m    122\u001b[0m     \u001b[0mextras\u001b[0m \u001b[1;33m=\u001b[0m \u001b[1;33m[\u001b[0m\u001b[1;33m]\u001b[0m\u001b[1;33m\u001b[0m\u001b[1;33m\u001b[0m\u001b[0m\n\u001b[1;32m--> 123\u001b[1;33m     it = np.nditer(\n\u001b[0m\u001b[0;32m    124\u001b[0m         \u001b[1;33m(\u001b[0m\u001b[0marray\u001b[0m\u001b[1;33m,\u001b[0m\u001b[1;33m)\u001b[0m\u001b[1;33m,\u001b[0m \u001b[0mflags\u001b[0m\u001b[1;33m=\u001b[0m\u001b[1;33m[\u001b[0m\u001b[1;34m'multi_index'\u001b[0m\u001b[1;33m,\u001b[0m \u001b[1;34m'refs_ok'\u001b[0m\u001b[1;33m,\u001b[0m \u001b[1;34m'zerosize_ok'\u001b[0m\u001b[1;33m]\u001b[0m \u001b[1;33m+\u001b[0m \u001b[0mextras\u001b[0m\u001b[1;33m,\u001b[0m\u001b[1;33m\u001b[0m\u001b[1;33m\u001b[0m\u001b[0m\n\u001b[0;32m    125\u001b[0m         op_flags=['readonly'], itershape=shape, order='C')\n",
      "\u001b[1;31mValueError\u001b[0m: operands could not be broadcast together with remapped shapes [original->remapped]: (450,) and requested shape (6,)"
     ]
    },
    {
     "data": {
      "image/png": "[encoded data removed]",
      "text/plain": [
       "<Figure size 432x288 with 1 Axes>"
      ]
     },
     "metadata": {
      "needs_background": "light"
     },
     "output_type": "display_data"
    }
   ],
   "source": [
    "N=np.array(['SVM', 'RF', 'LGB', 'AdaBoost', 'CatBoost','XGBoost'])\n",
    "M=np.array([val_acc_1,val_acc_2,val_acc_3,val_acc_4,val_acc_5,val_acc_6])\n",
    "J=np.array([accuracy_1,accuracy_2,accuracy_3,accuracy_4,accuracy_5,accuracy_6])\n",
    "plt.bar(N, M, color='green', linewidth=2,align='edge',tick_label=labels)\n",
    "labels = ['SVM', 'RF', 'LGB', 'AdaBoost', 'CatBoost','XGBoost']\n",
    "plt.title('Validation Accuracy')\n",
    "plt.show()"
   ]
  },
  {
   "cell_type": "markdown",
   "metadata": {},
   "source": [
    "# 繪出Random Forest和CatBoost的Training accuracy Curve和Validation accuracy Curve"
   ]
  },
  {
   "cell_type": "code",
   "execution_count": 20,
   "metadata": {},
   "outputs": [
    {
     "name": "stdout",
     "output_type": "stream",
     "text": [
      "Epoch 0: Training accuracy=0.19758389261744966, Validation accuracy=0.13777777777777778\n",
      "Epoch 1: Training accuracy=0.19758389261744966, Validation accuracy=0.13777777777777778\n",
      "Epoch 2: Training accuracy=0.19758389261744966, Validation accuracy=0.13777777777777778\n",
      "Epoch 3: Training accuracy=0.19758389261744966, Validation accuracy=0.13777777777777778\n",
      "Epoch 4: Training accuracy=0.19758389261744966, Validation accuracy=0.13777777777777778\n",
      "Epoch 5: Training accuracy=0.19758389261744966, Validation accuracy=0.13777777777777778\n",
      "Epoch 6: Training accuracy=0.19758389261744966, Validation accuracy=0.13777777777777778\n",
      "Epoch 7: Training accuracy=0.19758389261744966, Validation accuracy=0.13777777777777778\n",
      "Epoch 8: Training accuracy=0.19758389261744966, Validation accuracy=0.13777777777777778\n",
      "Epoch 9: Training accuracy=0.19758389261744966, Validation accuracy=0.13777777777777778\n"
     ]
    }
   ],
   "source": [
    "from sklearn.ensemble import RandomForestClassifier\n",
    "import matplotlib.pyplot as plt\n",
    "\n",
    "rf = RandomForestClassifier(n_estimators=50, max_depth=8, random_state=42)\n",
    "\n",
    "train_accs = []\n",
    "val_accs = []\n",
    "\n",
    "for epoch in range(10):\n",
    "    rf.fit(features0, labels_0)\n",
    "    \n",
    "    # Evaluate on the training data\n",
    "    train_preds = rf.predict(features0)\n",
    "    train_acc = accuracy_score(labels_0, train_preds)\n",
    "    train_accs.append(train_acc)\n",
    "    \n",
    "    # Evaluate on the validation data\n",
    "    val_preds = rf.predict(features1)\n",
    "    val_acc = accuracy_score(labels_1, val_preds)\n",
    "    val_accs.append(val_acc)\n",
    "    \n",
    "    # Print the accuracy for each epoch\n",
    "    print(f\"Epoch {epoch}: Training accuracy={train_acc}, Validation accuracy={val_acc}\")\n"
   ]
  },
  {
   "cell_type": "code",
   "execution_count": 21,
   "metadata": {},
   "outputs": [
    {
     "data": {
      "image/png": "[encoded data removed]",
      "text/plain": [
       "<Figure size 432x288 with 1 Axes>"
      ]
     },
     "metadata": {
      "needs_background": "light"
     },
     "output_type": "display_data"
    }
   ],
   "source": [
    "# Plot the training and validation accuracy curves\n",
    "plt.plot(train_accs, label='Training accuracy')\n",
    "plt.plot(val_accs, label='Validation accuracy')\n",
    "plt.legend()\n",
    "plt.show()"
   ]
  },
  {
   "cell_type": "code",
   "execution_count": 6,
   "metadata": {},
   "outputs": [
    {
     "name": "stdout",
     "output_type": "stream",
     "text": [
      "Learning rate set to 0.5\n",
      "0:\tlearn: 3.7628454\ttotal: 3.81s\tremaining: 6m 17s\n",
      "1:\tlearn: 3.6957501\ttotal: 7.84s\tremaining: 6m 24s\n",
      "2:\tlearn: 3.6268815\ttotal: 12.1s\tremaining: 6m 32s\n",
      "3:\tlearn: 3.5748805\ttotal: 16s\tremaining: 6m 24s\n",
      "4:\tlearn: 3.5245864\ttotal: 19.8s\tremaining: 6m 15s\n",
      "5:\tlearn: 3.4928999\ttotal: 23.7s\tremaining: 6m 11s\n",
      "6:\tlearn: 3.4633670\ttotal: 28.1s\tremaining: 6m 12s\n",
      "7:\tlearn: 3.4317445\ttotal: 32.2s\tremaining: 6m 10s\n",
      "8:\tlearn: 3.4047738\ttotal: 36.3s\tremaining: 6m 7s\n",
      "9:\tlearn: 3.3849323\ttotal: 40.6s\tremaining: 6m 5s\n",
      "10:\tlearn: 3.3613707\ttotal: 45s\tremaining: 6m 4s\n",
      "11:\tlearn: 3.3439557\ttotal: 49s\tremaining: 5m 59s\n",
      "12:\tlearn: 3.3250520\ttotal: 53.3s\tremaining: 5m 56s\n",
      "13:\tlearn: 3.3025861\ttotal: 58.4s\tremaining: 5m 58s\n",
      "14:\tlearn: 3.2843043\ttotal: 1m 3s\tremaining: 5m 58s\n",
      "15:\tlearn: 3.2731835\ttotal: 1m 7s\tremaining: 5m 54s\n",
      "16:\tlearn: 3.2592078\ttotal: 1m 11s\tremaining: 5m 51s\n",
      "17:\tlearn: 3.2479119\ttotal: 1m 16s\tremaining: 5m 48s\n",
      "18:\tlearn: 3.2313536\ttotal: 1m 20s\tremaining: 5m 42s\n",
      "19:\tlearn: 3.2169591\ttotal: 1m 24s\tremaining: 5m 37s\n",
      "20:\tlearn: 3.2016174\ttotal: 1m 28s\tremaining: 5m 32s\n",
      "21:\tlearn: 3.1863382\ttotal: 1m 32s\tremaining: 5m 27s\n",
      "22:\tlearn: 3.1691803\ttotal: 1m 36s\tremaining: 5m 21s\n",
      "23:\tlearn: 3.1611675\ttotal: 1m 39s\tremaining: 5m 16s\n",
      "24:\tlearn: 3.1468935\ttotal: 1m 44s\tremaining: 5m 12s\n",
      "25:\tlearn: 3.1377579\ttotal: 1m 48s\tremaining: 5m 7s\n",
      "26:\tlearn: 3.1242337\ttotal: 1m 52s\tremaining: 5m 3s\n",
      "27:\tlearn: 3.1140063\ttotal: 1m 56s\tremaining: 4m 58s\n",
      "28:\tlearn: 3.0935841\ttotal: 2m\tremaining: 4m 54s\n",
      "29:\tlearn: 3.0804302\ttotal: 2m 4s\tremaining: 4m 50s\n",
      "30:\tlearn: 3.0690957\ttotal: 2m 8s\tremaining: 4m 45s\n",
      "31:\tlearn: 3.0596157\ttotal: 2m 12s\tremaining: 4m 40s\n",
      "32:\tlearn: 3.0485984\ttotal: 2m 16s\tremaining: 4m 36s\n",
      "33:\tlearn: 3.0386929\ttotal: 2m 20s\tremaining: 4m 32s\n",
      "34:\tlearn: 3.0286407\ttotal: 2m 24s\tremaining: 4m 27s\n",
      "35:\tlearn: 3.0205011\ttotal: 2m 27s\tremaining: 4m 22s\n",
      "36:\tlearn: 3.0092833\ttotal: 2m 31s\tremaining: 4m 18s\n",
      "37:\tlearn: 2.9991968\ttotal: 2m 35s\tremaining: 4m 14s\n",
      "38:\tlearn: 2.9934920\ttotal: 2m 39s\tremaining: 4m 9s\n",
      "39:\tlearn: 2.9889668\ttotal: 2m 43s\tremaining: 4m 5s\n",
      "40:\tlearn: 2.9831417\ttotal: 2m 47s\tremaining: 4m 1s\n",
      "41:\tlearn: 2.9754368\ttotal: 2m 52s\tremaining: 3m 57s\n",
      "42:\tlearn: 2.9670606\ttotal: 2m 56s\tremaining: 3m 54s\n",
      "43:\tlearn: 2.9585977\ttotal: 3m\tremaining: 3m 50s\n",
      "44:\tlearn: 2.9528655\ttotal: 3m 5s\tremaining: 3m 46s\n",
      "45:\tlearn: 2.9447151\ttotal: 3m 9s\tremaining: 3m 42s\n",
      "46:\tlearn: 2.9385275\ttotal: 3m 13s\tremaining: 3m 38s\n",
      "47:\tlearn: 2.9298660\ttotal: 3m 17s\tremaining: 3m 33s\n",
      "48:\tlearn: 2.9253716\ttotal: 3m 21s\tremaining: 3m 29s\n",
      "49:\tlearn: 2.9219544\ttotal: 3m 25s\tremaining: 3m 25s\n",
      "50:\tlearn: 2.9172669\ttotal: 3m 28s\tremaining: 3m 20s\n",
      "51:\tlearn: 2.9126939\ttotal: 3m 32s\tremaining: 3m 16s\n",
      "52:\tlearn: 2.9085286\ttotal: 3m 36s\tremaining: 3m 12s\n",
      "53:\tlearn: 2.9032040\ttotal: 3m 40s\tremaining: 3m 7s\n",
      "54:\tlearn: 2.8989290\ttotal: 3m 44s\tremaining: 3m 3s\n",
      "55:\tlearn: 2.8953856\ttotal: 3m 47s\tremaining: 2m 59s\n",
      "56:\tlearn: 2.8898541\ttotal: 3m 51s\tremaining: 2m 54s\n",
      "57:\tlearn: 2.8808717\ttotal: 3m 55s\tremaining: 2m 50s\n",
      "58:\tlearn: 2.8757524\ttotal: 3m 59s\tremaining: 2m 46s\n",
      "59:\tlearn: 2.8700854\ttotal: 4m 3s\tremaining: 2m 42s\n",
      "60:\tlearn: 2.8664526\ttotal: 4m 7s\tremaining: 2m 38s\n",
      "61:\tlearn: 2.8624252\ttotal: 4m 11s\tremaining: 2m 34s\n",
      "62:\tlearn: 2.8576017\ttotal: 4m 15s\tremaining: 2m 29s\n",
      "63:\tlearn: 2.8525901\ttotal: 4m 19s\tremaining: 2m 25s\n",
      "64:\tlearn: 2.8484247\ttotal: 4m 23s\tremaining: 2m 21s\n",
      "65:\tlearn: 2.8450753\ttotal: 4m 27s\tremaining: 2m 17s\n",
      "66:\tlearn: 2.8428758\ttotal: 4m 30s\tremaining: 2m 13s\n",
      "67:\tlearn: 2.8392731\ttotal: 4m 34s\tremaining: 2m 9s\n",
      "68:\tlearn: 2.8338909\ttotal: 4m 38s\tremaining: 2m 5s\n",
      "69:\tlearn: 2.8306759\ttotal: 4m 42s\tremaining: 2m 1s\n",
      "70:\tlearn: 2.8251415\ttotal: 4m 46s\tremaining: 1m 56s\n",
      "71:\tlearn: 2.8211862\ttotal: 4m 50s\tremaining: 1m 52s\n",
      "72:\tlearn: 2.8196852\ttotal: 4m 54s\tremaining: 1m 48s\n",
      "73:\tlearn: 2.8155472\ttotal: 4m 58s\tremaining: 1m 44s\n",
      "74:\tlearn: 2.8118180\ttotal: 5m 1s\tremaining: 1m 40s\n",
      "75:\tlearn: 2.8076106\ttotal: 5m 5s\tremaining: 1m 36s\n",
      "76:\tlearn: 2.8009117\ttotal: 5m 9s\tremaining: 1m 32s\n",
      "77:\tlearn: 2.7978997\ttotal: 5m 13s\tremaining: 1m 28s\n",
      "78:\tlearn: 2.7931527\ttotal: 5m 17s\tremaining: 1m 24s\n",
      "79:\tlearn: 2.7858490\ttotal: 5m 21s\tremaining: 1m 20s\n",
      "80:\tlearn: 2.7821460\ttotal: 5m 25s\tremaining: 1m 16s\n",
      "81:\tlearn: 2.7780167\ttotal: 5m 29s\tremaining: 1m 12s\n",
      "82:\tlearn: 2.7734538\ttotal: 5m 32s\tremaining: 1m 8s\n",
      "83:\tlearn: 2.7697210\ttotal: 5m 36s\tremaining: 1m 4s\n",
      "84:\tlearn: 2.7681930\ttotal: 5m 40s\tremaining: 1m\n",
      "85:\tlearn: 2.7662890\ttotal: 5m 44s\tremaining: 56s\n",
      "86:\tlearn: 2.7629500\ttotal: 5m 48s\tremaining: 52s\n",
      "87:\tlearn: 2.7598741\ttotal: 5m 51s\tremaining: 48s\n",
      "88:\tlearn: 2.7578226\ttotal: 5m 55s\tremaining: 44s\n",
      "89:\tlearn: 2.7528333\ttotal: 5m 59s\tremaining: 40s\n",
      "90:\tlearn: 2.7475242\ttotal: 6m 3s\tremaining: 36s\n",
      "91:\tlearn: 2.7453310\ttotal: 6m 7s\tremaining: 32s\n",
      "92:\tlearn: 2.7431270\ttotal: 6m 11s\tremaining: 28s\n",
      "93:\tlearn: 2.7402042\ttotal: 6m 15s\tremaining: 24s\n",
      "94:\tlearn: 2.7358965\ttotal: 6m 19s\tremaining: 20s\n",
      "95:\tlearn: 2.7334145\ttotal: 6m 23s\tremaining: 16s\n",
      "96:\tlearn: 2.7312221\ttotal: 6m 27s\tremaining: 12s\n",
      "97:\tlearn: 2.7282405\ttotal: 6m 31s\tremaining: 7.99s\n",
      "98:\tlearn: 2.7247871\ttotal: 6m 35s\tremaining: 4s\n",
      "99:\tlearn: 2.7226767\ttotal: 6m 40s\tremaining: 0us\n",
      "Epoch 0: Training accuracy=0.2881326490327675, Validation accuracy=0.20444444444444446\n",
      "Learning rate set to 0.5\n",
      "0:\tlearn: 3.7628454\ttotal: 4.21s\tremaining: 6m 56s\n",
      "1:\tlearn: 3.6957501\ttotal: 8.66s\tremaining: 7m 4s\n",
      "2:\tlearn: 3.6268815\ttotal: 12.5s\tremaining: 6m 44s\n",
      "3:\tlearn: 3.5748805\ttotal: 16.4s\tremaining: 6m 33s\n",
      "4:\tlearn: 3.5245864\ttotal: 20.6s\tremaining: 6m 32s\n",
      "5:\tlearn: 3.4928999\ttotal: 24.9s\tremaining: 6m 29s\n",
      "6:\tlearn: 3.4633670\ttotal: 28.8s\tremaining: 6m 22s\n",
      "7:\tlearn: 3.4317445\ttotal: 32.8s\tremaining: 6m 17s\n",
      "8:\tlearn: 3.4047738\ttotal: 36.8s\tremaining: 6m 11s\n",
      "9:\tlearn: 3.3849323\ttotal: 40.9s\tremaining: 6m 8s\n",
      "10:\tlearn: 3.3613707\ttotal: 44.9s\tremaining: 6m 3s\n",
      "11:\tlearn: 3.3439557\ttotal: 48.7s\tremaining: 5m 57s\n",
      "12:\tlearn: 3.3250520\ttotal: 52.7s\tremaining: 5m 52s\n",
      "13:\tlearn: 3.3025861\ttotal: 56.7s\tremaining: 5m 48s\n",
      "14:\tlearn: 3.2843043\ttotal: 1m\tremaining: 5m 43s\n",
      "15:\tlearn: 3.2731835\ttotal: 1m 4s\tremaining: 5m 38s\n",
      "16:\tlearn: 3.2592078\ttotal: 1m 8s\tremaining: 5m 33s\n",
      "17:\tlearn: 3.2479119\ttotal: 1m 12s\tremaining: 5m 29s\n",
      "18:\tlearn: 3.2313536\ttotal: 1m 16s\tremaining: 5m 25s\n",
      "19:\tlearn: 3.2169591\ttotal: 1m 20s\tremaining: 5m 21s\n",
      "20:\tlearn: 3.2016174\ttotal: 1m 24s\tremaining: 5m 16s\n",
      "21:\tlearn: 3.1863382\ttotal: 1m 28s\tremaining: 5m 13s\n",
      "22:\tlearn: 3.1691803\ttotal: 1m 32s\tremaining: 5m 8s\n",
      "23:\tlearn: 3.1611675\ttotal: 1m 36s\tremaining: 5m 4s\n",
      "24:\tlearn: 3.1468935\ttotal: 1m 40s\tremaining: 5m\n",
      "25:\tlearn: 3.1377579\ttotal: 1m 44s\tremaining: 4m 56s\n",
      "26:\tlearn: 3.1242337\ttotal: 1m 47s\tremaining: 4m 51s\n",
      "27:\tlearn: 3.1140063\ttotal: 1m 51s\tremaining: 4m 47s\n",
      "28:\tlearn: 3.0935841\ttotal: 1m 55s\tremaining: 4m 43s\n",
      "29:\tlearn: 3.0804302\ttotal: 1m 59s\tremaining: 4m 39s\n",
      "30:\tlearn: 3.0690957\ttotal: 2m 6s\tremaining: 4m 41s\n",
      "31:\tlearn: 3.0596157\ttotal: 2m 10s\tremaining: 4m 36s\n",
      "32:\tlearn: 3.0485984\ttotal: 2m 14s\tremaining: 4m 32s\n",
      "33:\tlearn: 3.0386929\ttotal: 2m 18s\tremaining: 4m 28s\n",
      "34:\tlearn: 3.0286407\ttotal: 2m 22s\tremaining: 4m 24s\n",
      "35:\tlearn: 3.0205011\ttotal: 2m 25s\tremaining: 4m 19s\n",
      "36:\tlearn: 3.0092833\ttotal: 2m 29s\tremaining: 4m 15s\n",
      "37:\tlearn: 2.9991968\ttotal: 2m 33s\tremaining: 4m 11s\n",
      "38:\tlearn: 2.9934920\ttotal: 2m 37s\tremaining: 4m 6s\n",
      "39:\tlearn: 2.9889668\ttotal: 2m 41s\tremaining: 4m 2s\n",
      "40:\tlearn: 2.9831417\ttotal: 2m 45s\tremaining: 3m 58s\n",
      "41:\tlearn: 2.9754368\ttotal: 2m 49s\tremaining: 3m 53s\n",
      "42:\tlearn: 2.9670606\ttotal: 2m 53s\tremaining: 3m 49s\n",
      "43:\tlearn: 2.9585977\ttotal: 2m 57s\tremaining: 3m 45s\n",
      "44:\tlearn: 2.9528655\ttotal: 3m 1s\tremaining: 3m 41s\n",
      "45:\tlearn: 2.9447151\ttotal: 3m 5s\tremaining: 3m 37s\n",
      "46:\tlearn: 2.9385275\ttotal: 3m 8s\tremaining: 3m 32s\n",
      "47:\tlearn: 2.9298660\ttotal: 3m 12s\tremaining: 3m 28s\n",
      "48:\tlearn: 2.9253716\ttotal: 3m 16s\tremaining: 3m 24s\n",
      "49:\tlearn: 2.9219544\ttotal: 3m 20s\tremaining: 3m 20s\n",
      "50:\tlearn: 2.9172669\ttotal: 3m 24s\tremaining: 3m 16s\n",
      "51:\tlearn: 2.9126939\ttotal: 3m 28s\tremaining: 3m 12s\n",
      "52:\tlearn: 2.9085286\ttotal: 3m 32s\tremaining: 3m 8s\n",
      "53:\tlearn: 2.9032040\ttotal: 3m 36s\tremaining: 3m 4s\n",
      "54:\tlearn: 2.8989290\ttotal: 3m 39s\tremaining: 2m 59s\n",
      "55:\tlearn: 2.8953856\ttotal: 3m 43s\tremaining: 2m 55s\n"
     ]
    },
    {
     "name": "stdout",
     "output_type": "stream",
     "text": [
      "56:\tlearn: 2.8898541\ttotal: 3m 47s\tremaining: 2m 51s\n",
      "57:\tlearn: 2.8808717\ttotal: 3m 51s\tremaining: 2m 47s\n",
      "58:\tlearn: 2.8757524\ttotal: 3m 56s\tremaining: 2m 44s\n",
      "59:\tlearn: 2.8700854\ttotal: 4m\tremaining: 2m 40s\n",
      "60:\tlearn: 2.8664526\ttotal: 4m 4s\tremaining: 2m 36s\n",
      "61:\tlearn: 2.8624252\ttotal: 4m 8s\tremaining: 2m 32s\n",
      "62:\tlearn: 2.8576017\ttotal: 4m 13s\tremaining: 2m 28s\n",
      "63:\tlearn: 2.8525901\ttotal: 4m 17s\tremaining: 2m 24s\n",
      "64:\tlearn: 2.8484247\ttotal: 4m 21s\tremaining: 2m 20s\n",
      "65:\tlearn: 2.8450753\ttotal: 4m 25s\tremaining: 2m 16s\n",
      "66:\tlearn: 2.8428758\ttotal: 4m 29s\tremaining: 2m 12s\n",
      "67:\tlearn: 2.8392731\ttotal: 4m 33s\tremaining: 2m 8s\n",
      "68:\tlearn: 2.8338909\ttotal: 4m 37s\tremaining: 2m 4s\n",
      "69:\tlearn: 2.8306759\ttotal: 4m 41s\tremaining: 2m\n",
      "70:\tlearn: 2.8251415\ttotal: 4m 44s\tremaining: 1m 56s\n",
      "71:\tlearn: 2.8211862\ttotal: 4m 48s\tremaining: 1m 52s\n",
      "72:\tlearn: 2.8196852\ttotal: 4m 52s\tremaining: 1m 48s\n",
      "73:\tlearn: 2.8155472\ttotal: 4m 56s\tremaining: 1m 44s\n",
      "74:\tlearn: 2.8118180\ttotal: 5m\tremaining: 1m 40s\n",
      "75:\tlearn: 2.8076106\ttotal: 5m 4s\tremaining: 1m 36s\n",
      "76:\tlearn: 2.8009117\ttotal: 5m 7s\tremaining: 1m 31s\n",
      "77:\tlearn: 2.7978997\ttotal: 5m 12s\tremaining: 1m 28s\n",
      "78:\tlearn: 2.7931527\ttotal: 5m 15s\tremaining: 1m 23s\n",
      "79:\tlearn: 2.7858490\ttotal: 5m 19s\tremaining: 1m 19s\n",
      "80:\tlearn: 2.7821460\ttotal: 5m 23s\tremaining: 1m 15s\n",
      "81:\tlearn: 2.7780167\ttotal: 5m 27s\tremaining: 1m 11s\n",
      "82:\tlearn: 2.7734538\ttotal: 5m 31s\tremaining: 1m 7s\n",
      "83:\tlearn: 2.7697210\ttotal: 5m 35s\tremaining: 1m 3s\n",
      "84:\tlearn: 2.7681930\ttotal: 5m 39s\tremaining: 59.8s\n",
      "85:\tlearn: 2.7662890\ttotal: 5m 43s\tremaining: 55.8s\n",
      "86:\tlearn: 2.7629500\ttotal: 5m 46s\tremaining: 51.8s\n",
      "87:\tlearn: 2.7598741\ttotal: 5m 50s\tremaining: 47.8s\n",
      "88:\tlearn: 2.7578226\ttotal: 5m 54s\tremaining: 43.8s\n",
      "89:\tlearn: 2.7528333\ttotal: 5m 58s\tremaining: 39.8s\n",
      "90:\tlearn: 2.7475242\ttotal: 6m 2s\tremaining: 35.8s\n",
      "91:\tlearn: 2.7453310\ttotal: 6m 6s\tremaining: 31.9s\n",
      "92:\tlearn: 2.7431270\ttotal: 6m 10s\tremaining: 27.9s\n",
      "93:\tlearn: 2.7402042\ttotal: 6m 14s\tremaining: 23.9s\n",
      "94:\tlearn: 2.7358965\ttotal: 6m 18s\tremaining: 19.9s\n",
      "95:\tlearn: 2.7334145\ttotal: 6m 22s\tremaining: 15.9s\n",
      "96:\tlearn: 2.7312221\ttotal: 6m 26s\tremaining: 11.9s\n",
      "97:\tlearn: 2.7282405\ttotal: 6m 30s\tremaining: 7.96s\n",
      "98:\tlearn: 2.7247871\ttotal: 6m 34s\tremaining: 3.98s\n",
      "99:\tlearn: 2.7226767\ttotal: 6m 37s\tremaining: 0us\n",
      "Epoch 1: Training accuracy=0.2881326490327675, Validation accuracy=0.20444444444444446\n",
      "Learning rate set to 0.5\n",
      "0:\tlearn: 3.7628454\ttotal: 3.84s\tremaining: 6m 19s\n",
      "1:\tlearn: 3.6957501\ttotal: 7.99s\tremaining: 6m 31s\n",
      "2:\tlearn: 3.6268815\ttotal: 11.9s\tremaining: 6m 24s\n",
      "3:\tlearn: 3.5748805\ttotal: 15.8s\tremaining: 6m 18s\n",
      "4:\tlearn: 3.5245864\ttotal: 19.7s\tremaining: 6m 14s\n",
      "5:\tlearn: 3.4928999\ttotal: 23.8s\tremaining: 6m 12s\n",
      "6:\tlearn: 3.4633670\ttotal: 27.8s\tremaining: 6m 9s\n",
      "7:\tlearn: 3.4317445\ttotal: 31.8s\tremaining: 6m 5s\n",
      "8:\tlearn: 3.4047738\ttotal: 35.7s\tremaining: 6m 1s\n",
      "9:\tlearn: 3.3849323\ttotal: 39.9s\tremaining: 5m 58s\n",
      "10:\tlearn: 3.3613707\ttotal: 43.9s\tremaining: 5m 55s\n",
      "11:\tlearn: 3.3439557\ttotal: 47.9s\tremaining: 5m 51s\n",
      "12:\tlearn: 3.3250520\ttotal: 51.9s\tremaining: 5m 47s\n",
      "13:\tlearn: 3.3025861\ttotal: 56.1s\tremaining: 5m 44s\n",
      "14:\tlearn: 3.2843043\ttotal: 1m\tremaining: 5m 40s\n",
      "15:\tlearn: 3.2731835\ttotal: 1m 4s\tremaining: 5m 38s\n",
      "16:\tlearn: 3.2592078\ttotal: 1m 10s\tremaining: 5m 45s\n",
      "17:\tlearn: 3.2479119\ttotal: 1m 15s\tremaining: 5m 41s\n",
      "18:\tlearn: 3.2313536\ttotal: 1m 19s\tremaining: 5m 38s\n",
      "19:\tlearn: 3.2169591\ttotal: 1m 23s\tremaining: 5m 35s\n",
      "20:\tlearn: 3.2016174\ttotal: 1m 28s\tremaining: 5m 32s\n",
      "21:\tlearn: 3.1863382\ttotal: 1m 32s\tremaining: 5m 29s\n",
      "22:\tlearn: 3.1691803\ttotal: 1m 37s\tremaining: 5m 24s\n",
      "23:\tlearn: 3.1611675\ttotal: 1m 40s\tremaining: 5m 19s\n",
      "24:\tlearn: 3.1468935\ttotal: 1m 45s\tremaining: 5m 15s\n",
      "25:\tlearn: 3.1377579\ttotal: 1m 49s\tremaining: 5m 10s\n",
      "26:\tlearn: 3.1242337\ttotal: 1m 52s\tremaining: 5m 5s\n",
      "27:\tlearn: 3.1140063\ttotal: 1m 56s\tremaining: 5m\n",
      "28:\tlearn: 3.0935841\ttotal: 2m 1s\tremaining: 4m 56s\n",
      "29:\tlearn: 3.0804302\ttotal: 2m 4s\tremaining: 4m 51s\n",
      "30:\tlearn: 3.0690957\ttotal: 2m 8s\tremaining: 4m 46s\n",
      "31:\tlearn: 3.0596157\ttotal: 2m 12s\tremaining: 4m 42s\n",
      "32:\tlearn: 3.0485984\ttotal: 2m 16s\tremaining: 4m 37s\n",
      "33:\tlearn: 3.0386929\ttotal: 2m 20s\tremaining: 4m 33s\n",
      "34:\tlearn: 3.0286407\ttotal: 2m 24s\tremaining: 4m 28s\n",
      "35:\tlearn: 3.0205011\ttotal: 2m 28s\tremaining: 4m 24s\n",
      "36:\tlearn: 3.0092833\ttotal: 2m 32s\tremaining: 4m 20s\n",
      "37:\tlearn: 2.9991968\ttotal: 2m 36s\tremaining: 4m 15s\n",
      "38:\tlearn: 2.9934920\ttotal: 2m 40s\tremaining: 4m 11s\n",
      "39:\tlearn: 2.9889668\ttotal: 2m 44s\tremaining: 4m 6s\n",
      "40:\tlearn: 2.9831417\ttotal: 2m 48s\tremaining: 4m 2s\n",
      "41:\tlearn: 2.9754368\ttotal: 2m 52s\tremaining: 3m 58s\n",
      "42:\tlearn: 2.9670606\ttotal: 2m 56s\tremaining: 3m 53s\n",
      "43:\tlearn: 2.9585977\ttotal: 3m\tremaining: 3m 49s\n",
      "44:\tlearn: 2.9528655\ttotal: 3m 4s\tremaining: 3m 45s\n",
      "45:\tlearn: 2.9447151\ttotal: 3m 8s\tremaining: 3m 40s\n",
      "46:\tlearn: 2.9385275\ttotal: 3m 12s\tremaining: 3m 36s\n",
      "47:\tlearn: 2.9298660\ttotal: 3m 15s\tremaining: 3m 32s\n",
      "48:\tlearn: 2.9253716\ttotal: 3m 19s\tremaining: 3m 28s\n",
      "49:\tlearn: 2.9219544\ttotal: 3m 23s\tremaining: 3m 23s\n",
      "50:\tlearn: 2.9172669\ttotal: 3m 27s\tremaining: 3m 19s\n",
      "51:\tlearn: 2.9126939\ttotal: 3m 31s\tremaining: 3m 15s\n",
      "52:\tlearn: 2.9085286\ttotal: 3m 35s\tremaining: 3m 11s\n",
      "53:\tlearn: 2.9032040\ttotal: 3m 39s\tremaining: 3m 6s\n",
      "54:\tlearn: 2.8989290\ttotal: 3m 43s\tremaining: 3m 2s\n",
      "55:\tlearn: 2.8953856\ttotal: 3m 47s\tremaining: 2m 58s\n",
      "56:\tlearn: 2.8898541\ttotal: 3m 51s\tremaining: 2m 54s\n",
      "57:\tlearn: 2.8808717\ttotal: 3m 55s\tremaining: 2m 50s\n",
      "58:\tlearn: 2.8757524\ttotal: 3m 59s\tremaining: 2m 46s\n",
      "59:\tlearn: 2.8700854\ttotal: 4m 2s\tremaining: 2m 41s\n",
      "60:\tlearn: 2.8664526\ttotal: 4m 6s\tremaining: 2m 37s\n",
      "61:\tlearn: 2.8624252\ttotal: 4m 10s\tremaining: 2m 33s\n",
      "62:\tlearn: 2.8576017\ttotal: 4m 14s\tremaining: 2m 29s\n",
      "63:\tlearn: 2.8525901\ttotal: 4m 18s\tremaining: 2m 25s\n",
      "64:\tlearn: 2.8484247\ttotal: 4m 22s\tremaining: 2m 21s\n",
      "65:\tlearn: 2.8450753\ttotal: 4m 26s\tremaining: 2m 17s\n",
      "66:\tlearn: 2.8428758\ttotal: 4m 30s\tremaining: 2m 13s\n",
      "67:\tlearn: 2.8392731\ttotal: 4m 34s\tremaining: 2m 8s\n",
      "68:\tlearn: 2.8338909\ttotal: 4m 38s\tremaining: 2m 4s\n",
      "69:\tlearn: 2.8306759\ttotal: 4m 42s\tremaining: 2m\n",
      "70:\tlearn: 2.8251415\ttotal: 4m 45s\tremaining: 1m 56s\n",
      "71:\tlearn: 2.8211862\ttotal: 4m 50s\tremaining: 1m 52s\n",
      "72:\tlearn: 2.8196852\ttotal: 4m 53s\tremaining: 1m 48s\n",
      "73:\tlearn: 2.8155472\ttotal: 4m 57s\tremaining: 1m 44s\n",
      "74:\tlearn: 2.8118180\ttotal: 5m 1s\tremaining: 1m 40s\n",
      "75:\tlearn: 2.8076106\ttotal: 5m 5s\tremaining: 1m 36s\n",
      "76:\tlearn: 2.8009117\ttotal: 5m 9s\tremaining: 1m 32s\n",
      "77:\tlearn: 2.7978997\ttotal: 5m 13s\tremaining: 1m 28s\n",
      "78:\tlearn: 2.7931527\ttotal: 5m 17s\tremaining: 1m 24s\n",
      "79:\tlearn: 2.7858490\ttotal: 5m 21s\tremaining: 1m 20s\n",
      "80:\tlearn: 2.7821460\ttotal: 5m 25s\tremaining: 1m 16s\n",
      "81:\tlearn: 2.7780167\ttotal: 5m 29s\tremaining: 1m 12s\n",
      "82:\tlearn: 2.7734538\ttotal: 5m 33s\tremaining: 1m 8s\n",
      "83:\tlearn: 2.7697210\ttotal: 5m 37s\tremaining: 1m 4s\n",
      "84:\tlearn: 2.7681930\ttotal: 5m 41s\tremaining: 1m\n",
      "85:\tlearn: 2.7662890\ttotal: 5m 45s\tremaining: 56.2s\n",
      "86:\tlearn: 2.7629500\ttotal: 5m 49s\tremaining: 52.2s\n",
      "87:\tlearn: 2.7598741\ttotal: 5m 53s\tremaining: 48.2s\n",
      "88:\tlearn: 2.7578226\ttotal: 5m 57s\tremaining: 44.2s\n",
      "89:\tlearn: 2.7528333\ttotal: 6m 1s\tremaining: 40.2s\n",
      "90:\tlearn: 2.7475242\ttotal: 6m 5s\tremaining: 36.2s\n",
      "91:\tlearn: 2.7453310\ttotal: 6m 9s\tremaining: 32.1s\n",
      "92:\tlearn: 2.7431270\ttotal: 6m 13s\tremaining: 28.1s\n",
      "93:\tlearn: 2.7402042\ttotal: 6m 17s\tremaining: 24.1s\n",
      "94:\tlearn: 2.7358965\ttotal: 6m 21s\tremaining: 20.1s\n",
      "95:\tlearn: 2.7334145\ttotal: 6m 25s\tremaining: 16s\n",
      "96:\tlearn: 2.7312221\ttotal: 6m 28s\tremaining: 12s\n",
      "97:\tlearn: 2.7282405\ttotal: 6m 32s\tremaining: 8.02s\n",
      "98:\tlearn: 2.7247871\ttotal: 6m 36s\tremaining: 4.01s\n",
      "99:\tlearn: 2.7226767\ttotal: 6m 40s\tremaining: 0us\n",
      "Epoch 2: Training accuracy=0.2881326490327675, Validation accuracy=0.20444444444444446\n"
     ]
    }
   ],
   "source": [
    "from catboost import CatBoostClassifier\n",
    "import matplotlib.pyplot as plt\n",
    "\n",
    "model = CatBoostClassifier(iterations=100, depth=5)\n",
    "\n",
    "\n",
    "train_accs = []\n",
    "val_accs = []\n",
    "\n",
    "for epoch in range(3):\n",
    "    model.fit(features0, labels_0)\n",
    "    \n",
    "    # Evaluate on the training data\n",
    "    train_preds = model.predict(features0)\n",
    "    train_acc = accuracy_score(labels_0, train_preds)\n",
    "    train_accs.append(train_acc)\n",
    "    \n",
    "    # Evaluate on the validation data\n",
    "    val_preds = model.predict(features1)\n",
    "    val_acc = accuracy_score(labels_1, val_preds)\n",
    "    val_accs.append(val_acc)\n",
    "    \n",
    "    # Print the accuracy for each epoch\n",
    "    print(f\"Epoch {epoch}: Training accuracy={train_acc}, Validation accuracy={val_acc}\")\n"
   ]
  },
  {
   "cell_type": "code",
   "execution_count": 7,
   "metadata": {},
   "outputs": [
    {
     "data": {
      "image/png": "[encoded data removed]",
      "text/plain": [
       "<Figure size 432x288 with 1 Axes>"
      ]
     },
     "metadata": {
      "needs_background": "light"
     },
     "output_type": "display_data"
    }
   ],
   "source": [
    "# Plot the training and validation accuracy curves\n",
    "plt.plot(train_accs, label='Training accuracy')\n",
    "plt.plot(val_accs, label='Validation accuracy')\n",
    "plt.legend()\n",
    "plt.show()"
   ]
  },
  {
   "cell_type": "code",
   "execution_count": null,
   "metadata": {},
   "outputs": [],
   "source": []
  }
 ],
 "metadata": {
  "kernelspec": {
   "display_name": "Python 3",
   "language": "python",
   "name": "python3"
  },
  "language_info": {
   "codemirror_mode": {
    "name": "ipython",
    "version": 3
   },
   "file_extension": ".py",
   "mimetype": "text/x-python",
   "name": "python",
   "nbconvert_exporter": "python",
   "pygments_lexer": "ipython3",
   "version": "3.8.5"
  }
 },
 "nbformat": 4,
 "nbformat_minor": 5
}
